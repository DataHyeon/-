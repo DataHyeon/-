{
 "cells": [
  {
   "cell_type": "code",
   "execution_count": 1,
   "id": "14e1cd1a",
   "metadata": {},
   "outputs": [],
   "source": [
    "# 221219 로스만 상점매출 예측"
   ]
  },
  {
   "cell_type": "code",
   "execution_count": 22,
   "id": "8c68ac9c",
   "metadata": {},
   "outputs": [],
   "source": [
    "import warnings\n",
    "warnings.filterwarnings('ignore')"
   ]
  },
  {
   "cell_type": "code",
   "execution_count": 1,
   "id": "93ae94c6",
   "metadata": {},
   "outputs": [],
   "source": [
    "# 패키지\n",
    "import pandas as pd\n",
    "import numpy as np\n",
    "import matplotlib.pyplot as plt\n",
    "\n",
    "try:\n",
    "    from xgboost import XGBRegressor\n",
    "except:\n",
    "    !pip install xgboost\n",
    "\n",
    "try:\n",
    "    from sklearn.model_selection import cross_val_score\n",
    "except:\n",
    "    !pip install sklearn"
   ]
  },
  {
   "cell_type": "code",
   "execution_count": 2,
   "id": "baef9737",
   "metadata": {},
   "outputs": [],
   "source": [
    "# 데이터\n",
    "train = pd.read_csv(\"./data/train.csv\")\n",
    "test = pd.read_csv(\"./data/test.csv\")\n",
    "store = pd.read_csv(\"./data/store.csv\")"
   ]
  },
  {
   "cell_type": "code",
   "execution_count": 3,
   "id": "8e417ede",
   "metadata": {},
   "outputs": [
    {
     "name": "stdout",
     "output_type": "stream",
     "text": [
      "      id  Store        Date  Sales  Promo StateHoliday  SchoolHoliday\n",
      "0  14929     85  2015-05-01  11360      1            a              0\n",
      "1  14930    512  2015-05-01  10534      1            a              0\n",
      "2  14931   1097  2015-05-01  17039      1            a              0\n",
      "3  14932      1  2015-04-30   6228      1            0              0\n",
      "4  14933      9  2015-04-30   9717      1            0              0\n",
      "<class 'pandas.core.frame.DataFrame'>\n",
      "RangeIndex: 62244 entries, 0 to 62243\n",
      "Data columns (total 7 columns):\n",
      " #   Column         Non-Null Count  Dtype \n",
      "---  ------         --------------  ----- \n",
      " 0   id             62244 non-null  int64 \n",
      " 1   Store          62244 non-null  int64 \n",
      " 2   Date           62244 non-null  object\n",
      " 3   Sales          62244 non-null  int64 \n",
      " 4   Promo          62244 non-null  int64 \n",
      " 5   StateHoliday   62244 non-null  object\n",
      " 6   SchoolHoliday  62244 non-null  int64 \n",
      "dtypes: int64(5), object(2)\n",
      "memory usage: 3.3+ MB\n",
      "None\n"
     ]
    }
   ],
   "source": [
    "# train 데이터 확인\n",
    "print(train.head())\n",
    "print(train.info())"
   ]
  },
  {
   "cell_type": "code",
   "execution_count": 4,
   "id": "a6712d37",
   "metadata": {},
   "outputs": [
    {
     "name": "stdout",
     "output_type": "stream",
     "text": [
      "   id  Store        Date  Promo StateHoliday  SchoolHoliday\n",
      "0   0      1  2015-07-01      1            0              0\n",
      "1   1      9  2015-07-01      1            0              1\n",
      "2   2     11  2015-07-01      1            0              0\n",
      "3   3     12  2015-07-01      1            0              0\n",
      "4   4     14  2015-07-01      1            0              1\n",
      "<class 'pandas.core.frame.DataFrame'>\n",
      "RangeIndex: 14929 entries, 0 to 14928\n",
      "Data columns (total 6 columns):\n",
      " #   Column         Non-Null Count  Dtype \n",
      "---  ------         --------------  ----- \n",
      " 0   id             14929 non-null  int64 \n",
      " 1   Store          14929 non-null  int64 \n",
      " 2   Date           14929 non-null  object\n",
      " 3   Promo          14929 non-null  int64 \n",
      " 4   StateHoliday   14929 non-null  object\n",
      " 5   SchoolHoliday  14929 non-null  int64 \n",
      "dtypes: int64(4), object(2)\n",
      "memory usage: 699.9+ KB\n",
      "None\n"
     ]
    }
   ],
   "source": [
    "# test 데이터 확인\n",
    "print(test.head())\n",
    "print(test.info())"
   ]
  },
  {
   "cell_type": "code",
   "execution_count": 5,
   "id": "619f012e",
   "metadata": {},
   "outputs": [],
   "source": [
    "# 각 데이터 객체의 object 컬럼 더미 변수 생성\n",
    "train = pd.get_dummies(columns=['StateHoliday'], data=train)\n",
    "test = pd.get_dummies(columns=['StateHoliday'], data=test)"
   ]
  },
  {
   "cell_type": "code",
   "execution_count": 6,
   "id": "12dadb86",
   "metadata": {},
   "outputs": [
    {
     "name": "stdout",
     "output_type": "stream",
     "text": [
      "      id  Store        Date  Sales  Promo  SchoolHoliday  StateHoliday_0  \\\n",
      "0  14929     85  2015-05-01  11360      1              0               0   \n",
      "1  14930    512  2015-05-01  10534      1              0               0   \n",
      "2  14931   1097  2015-05-01  17039      1              0               0   \n",
      "3  14932      1  2015-04-30   6228      1              0               1   \n",
      "4  14933      9  2015-04-30   9717      1              0               1   \n",
      "\n",
      "   StateHoliday_a  StateHoliday_b  StateHoliday_c  \n",
      "0               1               0               0  \n",
      "1               1               0               0  \n",
      "2               1               0               0  \n",
      "3               0               0               0  \n",
      "4               0               0               0  \n",
      "   id  Store        Date  Promo  SchoolHoliday  StateHoliday_0  StateHoliday_a\n",
      "0   0      1  2015-07-01      1              0               1               0\n",
      "1   1      9  2015-07-01      1              1               1               0\n",
      "2   2     11  2015-07-01      1              0               1               0\n",
      "3   3     12  2015-07-01      1              0               1               0\n",
      "4   4     14  2015-07-01      1              1               1               0\n"
     ]
    }
   ],
   "source": [
    "print(train.head())\n",
    "print(test.head())"
   ]
  },
  {
   "cell_type": "code",
   "execution_count": 7,
   "id": "13fabc9d",
   "metadata": {},
   "outputs": [],
   "source": [
    "# train 데이터와 test 데이터의 컬럼수가 맞지 않음\n",
    "# 학습을 위해 동일한 컬럼을 가질 수 있도록 처리\n",
    "test['StateHoliday_b'] = 0\n",
    "test['StateHoliday_c'] = 0"
   ]
  },
  {
   "cell_type": "code",
   "execution_count": 8,
   "id": "541e6c85",
   "metadata": {},
   "outputs": [
    {
     "name": "stdout",
     "output_type": "stream",
     "text": [
      "Index(['id', 'Store', 'Date', 'Sales', 'Promo', 'SchoolHoliday',\n",
      "       'StateHoliday_0', 'StateHoliday_a', 'StateHoliday_b', 'StateHoliday_c'],\n",
      "      dtype='object')\n",
      "Index(['id', 'Store', 'Date', 'Promo', 'SchoolHoliday', 'StateHoliday_0',\n",
      "       'StateHoliday_a', 'StateHoliday_b', 'StateHoliday_c'],\n",
      "      dtype='object')\n"
     ]
    }
   ],
   "source": [
    "print(train.columns)\n",
    "print(test.columns)"
   ]
  },
  {
   "cell_type": "code",
   "execution_count": 9,
   "id": "f7e1a7b9",
   "metadata": {},
   "outputs": [],
   "source": [
    "# 각 데이터들의 'Date' 컬럼 날짜형 변수로 변경\n",
    "train['Date'] = pd.to_datetime( train['Date'] )\n",
    "test['Date'] = pd.to_datetime( test['Date'] )"
   ]
  },
  {
   "cell_type": "code",
   "execution_count": 10,
   "id": "d22accf3",
   "metadata": {},
   "outputs": [],
   "source": [
    "# Date 컬럼 FE를 통한 새로운 변수 생성\n",
    "# year, month, weekday 생성\n",
    "\n",
    "train['year'] = train['Date'].dt.year\n",
    "test['year'] = test['Date'].dt.year\n",
    "\n",
    "train['month'] = train['Date'].dt.month\n",
    "test['month'] = test['Date'].dt.month\n",
    "\n",
    "train['weekday'] = train['Date'].dt.weekday\n",
    "test['weekday'] = test['Date'].dt.weekday"
   ]
  },
  {
   "cell_type": "code",
   "execution_count": 11,
   "id": "10221f08",
   "metadata": {},
   "outputs": [
    {
     "data": {
      "text/html": [
       "<div>\n",
       "<style scoped>\n",
       "    .dataframe tbody tr th:only-of-type {\n",
       "        vertical-align: middle;\n",
       "    }\n",
       "\n",
       "    .dataframe tbody tr th {\n",
       "        vertical-align: top;\n",
       "    }\n",
       "\n",
       "    .dataframe thead th {\n",
       "        text-align: right;\n",
       "    }\n",
       "</style>\n",
       "<table border=\"1\" class=\"dataframe\">\n",
       "  <thead>\n",
       "    <tr style=\"text-align: right;\">\n",
       "      <th></th>\n",
       "      <th>id</th>\n",
       "      <th>Store</th>\n",
       "      <th>Date</th>\n",
       "      <th>Sales</th>\n",
       "      <th>Promo</th>\n",
       "      <th>SchoolHoliday</th>\n",
       "      <th>StateHoliday_0</th>\n",
       "      <th>StateHoliday_a</th>\n",
       "      <th>StateHoliday_b</th>\n",
       "      <th>StateHoliday_c</th>\n",
       "      <th>year</th>\n",
       "      <th>month</th>\n",
       "      <th>weekday</th>\n",
       "    </tr>\n",
       "  </thead>\n",
       "  <tbody>\n",
       "    <tr>\n",
       "      <th>0</th>\n",
       "      <td>14929</td>\n",
       "      <td>85</td>\n",
       "      <td>2015-05-01</td>\n",
       "      <td>11360</td>\n",
       "      <td>1</td>\n",
       "      <td>0</td>\n",
       "      <td>0</td>\n",
       "      <td>1</td>\n",
       "      <td>0</td>\n",
       "      <td>0</td>\n",
       "      <td>2015</td>\n",
       "      <td>5</td>\n",
       "      <td>4</td>\n",
       "    </tr>\n",
       "    <tr>\n",
       "      <th>1</th>\n",
       "      <td>14930</td>\n",
       "      <td>512</td>\n",
       "      <td>2015-05-01</td>\n",
       "      <td>10534</td>\n",
       "      <td>1</td>\n",
       "      <td>0</td>\n",
       "      <td>0</td>\n",
       "      <td>1</td>\n",
       "      <td>0</td>\n",
       "      <td>0</td>\n",
       "      <td>2015</td>\n",
       "      <td>5</td>\n",
       "      <td>4</td>\n",
       "    </tr>\n",
       "    <tr>\n",
       "      <th>2</th>\n",
       "      <td>14931</td>\n",
       "      <td>1097</td>\n",
       "      <td>2015-05-01</td>\n",
       "      <td>17039</td>\n",
       "      <td>1</td>\n",
       "      <td>0</td>\n",
       "      <td>0</td>\n",
       "      <td>1</td>\n",
       "      <td>0</td>\n",
       "      <td>0</td>\n",
       "      <td>2015</td>\n",
       "      <td>5</td>\n",
       "      <td>4</td>\n",
       "    </tr>\n",
       "    <tr>\n",
       "      <th>3</th>\n",
       "      <td>14932</td>\n",
       "      <td>1</td>\n",
       "      <td>2015-04-30</td>\n",
       "      <td>6228</td>\n",
       "      <td>1</td>\n",
       "      <td>0</td>\n",
       "      <td>1</td>\n",
       "      <td>0</td>\n",
       "      <td>0</td>\n",
       "      <td>0</td>\n",
       "      <td>2015</td>\n",
       "      <td>4</td>\n",
       "      <td>3</td>\n",
       "    </tr>\n",
       "    <tr>\n",
       "      <th>4</th>\n",
       "      <td>14933</td>\n",
       "      <td>9</td>\n",
       "      <td>2015-04-30</td>\n",
       "      <td>9717</td>\n",
       "      <td>1</td>\n",
       "      <td>0</td>\n",
       "      <td>1</td>\n",
       "      <td>0</td>\n",
       "      <td>0</td>\n",
       "      <td>0</td>\n",
       "      <td>2015</td>\n",
       "      <td>4</td>\n",
       "      <td>3</td>\n",
       "    </tr>\n",
       "  </tbody>\n",
       "</table>\n",
       "</div>"
      ],
      "text/plain": [
       "      id  Store       Date  Sales  Promo  SchoolHoliday  StateHoliday_0  \\\n",
       "0  14929     85 2015-05-01  11360      1              0               0   \n",
       "1  14930    512 2015-05-01  10534      1              0               0   \n",
       "2  14931   1097 2015-05-01  17039      1              0               0   \n",
       "3  14932      1 2015-04-30   6228      1              0               1   \n",
       "4  14933      9 2015-04-30   9717      1              0               1   \n",
       "\n",
       "   StateHoliday_a  StateHoliday_b  StateHoliday_c  year  month  weekday  \n",
       "0               1               0               0  2015      5        4  \n",
       "1               1               0               0  2015      5        4  \n",
       "2               1               0               0  2015      5        4  \n",
       "3               0               0               0  2015      4        3  \n",
       "4               0               0               0  2015      4        3  "
      ]
     },
     "execution_count": 11,
     "metadata": {},
     "output_type": "execute_result"
    }
   ],
   "source": [
    "train.head()"
   ]
  },
  {
   "cell_type": "code",
   "execution_count": 12,
   "id": "39ec2f27",
   "metadata": {},
   "outputs": [
    {
     "data": {
      "text/plain": [
       "Index(['id', 'Store', 'Date', 'Sales', 'Promo', 'SchoolHoliday',\n",
       "       'StateHoliday_0', 'StateHoliday_a', 'StateHoliday_b', 'StateHoliday_c',\n",
       "       'year', 'month', 'weekday'],\n",
       "      dtype='object')"
      ]
     },
     "execution_count": 12,
     "metadata": {},
     "output_type": "execute_result"
    }
   ],
   "source": [
    "train.columns"
   ]
  },
  {
   "cell_type": "code",
   "execution_count": 13,
   "id": "3b54086a",
   "metadata": {},
   "outputs": [],
   "source": [
    "# 사용할 설명변수들을 저장\n",
    "col = ['Promo', 'SchoolHoliday',\n",
    "       'StateHoliday_0', 'StateHoliday_a', 'StateHoliday_b', 'StateHoliday_c',\n",
    "       'year', 'month', 'weekday']"
   ]
  },
  {
   "cell_type": "code",
   "execution_count": 14,
   "id": "c212b92d",
   "metadata": {},
   "outputs": [
    {
     "data": {
      "text/plain": [
       "XGBRegressor(base_score=0.5, booster='gbtree', callbacks=None,\n",
       "             colsample_bylevel=1, colsample_bynode=1, colsample_bytree=1,\n",
       "             early_stopping_rounds=None, enable_categorical=False,\n",
       "             eval_metric=None, feature_types=None, gamma=0, gpu_id=-1,\n",
       "             grow_policy='depthwise', importance_type=None,\n",
       "             interaction_constraints='', learning_rate=0.1, max_bin=256,\n",
       "             max_cat_threshold=64, max_cat_to_onehot=4, max_delta_step=0,\n",
       "             max_depth=6, max_leaves=0, min_child_weight=1, missing=nan,\n",
       "             monotone_constraints='()', n_estimators=300, n_jobs=0,\n",
       "             num_parallel_tree=1, predictor='auto', random_state=2022, ...)"
      ]
     },
     "execution_count": 14,
     "metadata": {},
     "output_type": "execute_result"
    }
   ],
   "source": [
    "# 베이스라인 모델링\n",
    "\n",
    "xgb = XGBRegressor(n_estimators = 300,\n",
    "                  learning_rate = 0.1,\n",
    "                  random_state = 2022)\n",
    "xgb.fit(train[col], train['Sales'])"
   ]
  },
  {
   "cell_type": "code",
   "execution_count": 15,
   "id": "64691bc4",
   "metadata": {},
   "outputs": [],
   "source": [
    "test['Sales'] = xgb.predict(test[col])"
   ]
  },
  {
   "cell_type": "code",
   "execution_count": 16,
   "id": "5ea95651",
   "metadata": {},
   "outputs": [
    {
     "data": {
      "text/html": [
       "<div>\n",
       "<style scoped>\n",
       "    .dataframe tbody tr th:only-of-type {\n",
       "        vertical-align: middle;\n",
       "    }\n",
       "\n",
       "    .dataframe tbody tr th {\n",
       "        vertical-align: top;\n",
       "    }\n",
       "\n",
       "    .dataframe thead th {\n",
       "        text-align: right;\n",
       "    }\n",
       "</style>\n",
       "<table border=\"1\" class=\"dataframe\">\n",
       "  <thead>\n",
       "    <tr style=\"text-align: right;\">\n",
       "      <th></th>\n",
       "      <th>id</th>\n",
       "      <th>Store</th>\n",
       "      <th>Date</th>\n",
       "      <th>Promo</th>\n",
       "      <th>SchoolHoliday</th>\n",
       "      <th>StateHoliday_0</th>\n",
       "      <th>StateHoliday_a</th>\n",
       "      <th>StateHoliday_b</th>\n",
       "      <th>StateHoliday_c</th>\n",
       "      <th>year</th>\n",
       "      <th>month</th>\n",
       "      <th>weekday</th>\n",
       "      <th>Sales</th>\n",
       "    </tr>\n",
       "  </thead>\n",
       "  <tbody>\n",
       "    <tr>\n",
       "      <th>0</th>\n",
       "      <td>0</td>\n",
       "      <td>1</td>\n",
       "      <td>2015-07-01</td>\n",
       "      <td>1</td>\n",
       "      <td>0</td>\n",
       "      <td>1</td>\n",
       "      <td>0</td>\n",
       "      <td>0</td>\n",
       "      <td>0</td>\n",
       "      <td>2015</td>\n",
       "      <td>7</td>\n",
       "      <td>2</td>\n",
       "      <td>9451.890625</td>\n",
       "    </tr>\n",
       "    <tr>\n",
       "      <th>1</th>\n",
       "      <td>1</td>\n",
       "      <td>9</td>\n",
       "      <td>2015-07-01</td>\n",
       "      <td>1</td>\n",
       "      <td>1</td>\n",
       "      <td>1</td>\n",
       "      <td>0</td>\n",
       "      <td>0</td>\n",
       "      <td>0</td>\n",
       "      <td>2015</td>\n",
       "      <td>7</td>\n",
       "      <td>2</td>\n",
       "      <td>9701.730469</td>\n",
       "    </tr>\n",
       "    <tr>\n",
       "      <th>2</th>\n",
       "      <td>2</td>\n",
       "      <td>11</td>\n",
       "      <td>2015-07-01</td>\n",
       "      <td>1</td>\n",
       "      <td>0</td>\n",
       "      <td>1</td>\n",
       "      <td>0</td>\n",
       "      <td>0</td>\n",
       "      <td>0</td>\n",
       "      <td>2015</td>\n",
       "      <td>7</td>\n",
       "      <td>2</td>\n",
       "      <td>9451.890625</td>\n",
       "    </tr>\n",
       "    <tr>\n",
       "      <th>3</th>\n",
       "      <td>3</td>\n",
       "      <td>12</td>\n",
       "      <td>2015-07-01</td>\n",
       "      <td>1</td>\n",
       "      <td>0</td>\n",
       "      <td>1</td>\n",
       "      <td>0</td>\n",
       "      <td>0</td>\n",
       "      <td>0</td>\n",
       "      <td>2015</td>\n",
       "      <td>7</td>\n",
       "      <td>2</td>\n",
       "      <td>9451.890625</td>\n",
       "    </tr>\n",
       "    <tr>\n",
       "      <th>4</th>\n",
       "      <td>4</td>\n",
       "      <td>14</td>\n",
       "      <td>2015-07-01</td>\n",
       "      <td>1</td>\n",
       "      <td>1</td>\n",
       "      <td>1</td>\n",
       "      <td>0</td>\n",
       "      <td>0</td>\n",
       "      <td>0</td>\n",
       "      <td>2015</td>\n",
       "      <td>7</td>\n",
       "      <td>2</td>\n",
       "      <td>9701.730469</td>\n",
       "    </tr>\n",
       "    <tr>\n",
       "      <th>...</th>\n",
       "      <td>...</td>\n",
       "      <td>...</td>\n",
       "      <td>...</td>\n",
       "      <td>...</td>\n",
       "      <td>...</td>\n",
       "      <td>...</td>\n",
       "      <td>...</td>\n",
       "      <td>...</td>\n",
       "      <td>...</td>\n",
       "      <td>...</td>\n",
       "      <td>...</td>\n",
       "      <td>...</td>\n",
       "      <td>...</td>\n",
       "    </tr>\n",
       "    <tr>\n",
       "      <th>14924</th>\n",
       "      <td>14924</td>\n",
       "      <td>1106</td>\n",
       "      <td>2015-05-02</td>\n",
       "      <td>0</td>\n",
       "      <td>0</td>\n",
       "      <td>1</td>\n",
       "      <td>0</td>\n",
       "      <td>0</td>\n",
       "      <td>0</td>\n",
       "      <td>2015</td>\n",
       "      <td>5</td>\n",
       "      <td>5</td>\n",
       "      <td>6551.878418</td>\n",
       "    </tr>\n",
       "    <tr>\n",
       "      <th>14925</th>\n",
       "      <td>14925</td>\n",
       "      <td>1108</td>\n",
       "      <td>2015-05-02</td>\n",
       "      <td>0</td>\n",
       "      <td>0</td>\n",
       "      <td>1</td>\n",
       "      <td>0</td>\n",
       "      <td>0</td>\n",
       "      <td>0</td>\n",
       "      <td>2015</td>\n",
       "      <td>5</td>\n",
       "      <td>5</td>\n",
       "      <td>6551.878418</td>\n",
       "    </tr>\n",
       "    <tr>\n",
       "      <th>14926</th>\n",
       "      <td>14926</td>\n",
       "      <td>1111</td>\n",
       "      <td>2015-05-02</td>\n",
       "      <td>0</td>\n",
       "      <td>0</td>\n",
       "      <td>1</td>\n",
       "      <td>0</td>\n",
       "      <td>0</td>\n",
       "      <td>0</td>\n",
       "      <td>2015</td>\n",
       "      <td>5</td>\n",
       "      <td>5</td>\n",
       "      <td>6551.878418</td>\n",
       "    </tr>\n",
       "    <tr>\n",
       "      <th>14927</th>\n",
       "      <td>14927</td>\n",
       "      <td>1112</td>\n",
       "      <td>2015-05-02</td>\n",
       "      <td>0</td>\n",
       "      <td>0</td>\n",
       "      <td>1</td>\n",
       "      <td>0</td>\n",
       "      <td>0</td>\n",
       "      <td>0</td>\n",
       "      <td>2015</td>\n",
       "      <td>5</td>\n",
       "      <td>5</td>\n",
       "      <td>6551.878418</td>\n",
       "    </tr>\n",
       "    <tr>\n",
       "      <th>14928</th>\n",
       "      <td>14928</td>\n",
       "      <td>1113</td>\n",
       "      <td>2015-05-02</td>\n",
       "      <td>0</td>\n",
       "      <td>0</td>\n",
       "      <td>1</td>\n",
       "      <td>0</td>\n",
       "      <td>0</td>\n",
       "      <td>0</td>\n",
       "      <td>2015</td>\n",
       "      <td>5</td>\n",
       "      <td>5</td>\n",
       "      <td>6551.878418</td>\n",
       "    </tr>\n",
       "  </tbody>\n",
       "</table>\n",
       "<p>14929 rows × 13 columns</p>\n",
       "</div>"
      ],
      "text/plain": [
       "          id  Store       Date  Promo  SchoolHoliday  StateHoliday_0  \\\n",
       "0          0      1 2015-07-01      1              0               1   \n",
       "1          1      9 2015-07-01      1              1               1   \n",
       "2          2     11 2015-07-01      1              0               1   \n",
       "3          3     12 2015-07-01      1              0               1   \n",
       "4          4     14 2015-07-01      1              1               1   \n",
       "...      ...    ...        ...    ...            ...             ...   \n",
       "14924  14924   1106 2015-05-02      0              0               1   \n",
       "14925  14925   1108 2015-05-02      0              0               1   \n",
       "14926  14926   1111 2015-05-02      0              0               1   \n",
       "14927  14927   1112 2015-05-02      0              0               1   \n",
       "14928  14928   1113 2015-05-02      0              0               1   \n",
       "\n",
       "       StateHoliday_a  StateHoliday_b  StateHoliday_c  year  month  weekday  \\\n",
       "0                   0               0               0  2015      7        2   \n",
       "1                   0               0               0  2015      7        2   \n",
       "2                   0               0               0  2015      7        2   \n",
       "3                   0               0               0  2015      7        2   \n",
       "4                   0               0               0  2015      7        2   \n",
       "...               ...             ...             ...   ...    ...      ...   \n",
       "14924               0               0               0  2015      5        5   \n",
       "14925               0               0               0  2015      5        5   \n",
       "14926               0               0               0  2015      5        5   \n",
       "14927               0               0               0  2015      5        5   \n",
       "14928               0               0               0  2015      5        5   \n",
       "\n",
       "             Sales  \n",
       "0      9451.890625  \n",
       "1      9701.730469  \n",
       "2      9451.890625  \n",
       "3      9451.890625  \n",
       "4      9701.730469  \n",
       "...            ...  \n",
       "14924  6551.878418  \n",
       "14925  6551.878418  \n",
       "14926  6551.878418  \n",
       "14927  6551.878418  \n",
       "14928  6551.878418  \n",
       "\n",
       "[14929 rows x 13 columns]"
      ]
     },
     "execution_count": 16,
     "metadata": {},
     "output_type": "execute_result"
    }
   ],
   "source": [
    "test"
   ]
  },
  {
   "cell_type": "code",
   "execution_count": 17,
   "id": "ab49c671",
   "metadata": {},
   "outputs": [],
   "source": [
    "# 변수 중요도 확인\n",
    "imp_df = pd.DataFrame({\"var\" : col,\n",
    "                     \"imp\" : xgb.feature_importances_})\n",
    "\n",
    "imp_df = imp_df.sort_values(by='imp', ascending=False)"
   ]
  },
  {
   "cell_type": "code",
   "execution_count": 18,
   "id": "63ac6ca9",
   "metadata": {},
   "outputs": [
    {
     "data": {
      "text/html": [
       "<div>\n",
       "<style scoped>\n",
       "    .dataframe tbody tr th:only-of-type {\n",
       "        vertical-align: middle;\n",
       "    }\n",
       "\n",
       "    .dataframe tbody tr th {\n",
       "        vertical-align: top;\n",
       "    }\n",
       "\n",
       "    .dataframe thead th {\n",
       "        text-align: right;\n",
       "    }\n",
       "</style>\n",
       "<table border=\"1\" class=\"dataframe\">\n",
       "  <thead>\n",
       "    <tr style=\"text-align: right;\">\n",
       "      <th></th>\n",
       "      <th>var</th>\n",
       "      <th>imp</th>\n",
       "    </tr>\n",
       "  </thead>\n",
       "  <tbody>\n",
       "    <tr>\n",
       "      <th>0</th>\n",
       "      <td>Promo</td>\n",
       "      <td>0.701198</td>\n",
       "    </tr>\n",
       "    <tr>\n",
       "      <th>8</th>\n",
       "      <td>weekday</td>\n",
       "      <td>0.085840</td>\n",
       "    </tr>\n",
       "    <tr>\n",
       "      <th>7</th>\n",
       "      <td>month</td>\n",
       "      <td>0.084062</td>\n",
       "    </tr>\n",
       "    <tr>\n",
       "      <th>6</th>\n",
       "      <td>year</td>\n",
       "      <td>0.057804</td>\n",
       "    </tr>\n",
       "    <tr>\n",
       "      <th>1</th>\n",
       "      <td>SchoolHoliday</td>\n",
       "      <td>0.056814</td>\n",
       "    </tr>\n",
       "    <tr>\n",
       "      <th>2</th>\n",
       "      <td>StateHoliday_0</td>\n",
       "      <td>0.008597</td>\n",
       "    </tr>\n",
       "    <tr>\n",
       "      <th>3</th>\n",
       "      <td>StateHoliday_a</td>\n",
       "      <td>0.003973</td>\n",
       "    </tr>\n",
       "    <tr>\n",
       "      <th>4</th>\n",
       "      <td>StateHoliday_b</td>\n",
       "      <td>0.001705</td>\n",
       "    </tr>\n",
       "    <tr>\n",
       "      <th>5</th>\n",
       "      <td>StateHoliday_c</td>\n",
       "      <td>0.000009</td>\n",
       "    </tr>\n",
       "  </tbody>\n",
       "</table>\n",
       "</div>"
      ],
      "text/plain": [
       "              var       imp\n",
       "0           Promo  0.701198\n",
       "8         weekday  0.085840\n",
       "7           month  0.084062\n",
       "6            year  0.057804\n",
       "1   SchoolHoliday  0.056814\n",
       "2  StateHoliday_0  0.008597\n",
       "3  StateHoliday_a  0.003973\n",
       "4  StateHoliday_b  0.001705\n",
       "5  StateHoliday_c  0.000009"
      ]
     },
     "execution_count": 18,
     "metadata": {},
     "output_type": "execute_result"
    }
   ],
   "source": [
    "imp_df"
   ]
  },
  {
   "cell_type": "code",
   "execution_count": 19,
   "id": "eda4f263",
   "metadata": {},
   "outputs": [],
   "source": [
    "# K-Fold 교차검증을 통한 mse 확인\n",
    "# 변수를 한 개씩 늘려가면 확인\n",
    "\n",
    "score_list=[]\n",
    "selected_varnum=[]\n",
    "\n",
    "for i in range(len(imp_df)):\n",
    "    selected_var = imp_df['var'].to_list()[:i+1]\n",
    "    scores = cross_val_score(xgb,\n",
    "                            train[selected_var],\n",
    "                            train['Sales'],\n",
    "                            scoring='neg_mean_squared_error', cv=3)\n",
    "    score_list.append(-np.mean(scores))\n",
    "    selected_varnum.append(i+1)\n",
    "    "
   ]
  },
  {
   "cell_type": "code",
   "execution_count": 23,
   "id": "babdd145",
   "metadata": {},
   "outputs": [
    {
     "data": {
      "text/plain": [
       "[<matplotlib.lines.Line2D at 0x1e968a355b0>]"
      ]
     },
     "execution_count": 23,
     "metadata": {},
     "output_type": "execute_result"
    },
    {
     "data": {
      "image/png": "[encoded data removed]",
      "text/plain": [
       "<Figure size 640x480 with 1 Axes>"
      ]
     },
     "metadata": {},
     "output_type": "display_data"
    }
   ],
   "source": [
    "# 시각화 \n",
    "plt.plot(selected_varnum, score_list)"
   ]
  },
  {
   "cell_type": "code",
   "execution_count": 24,
   "id": "82bcd5d9",
   "metadata": {},
   "outputs": [],
   "source": [
    "# 상위 2개의 변수만 사용했을 때 mse가 가장 낮음\n",
    "# 상위 두개 변수 promo와 weekday만 사용한 모델 학습\n",
    "\n",
    "xgb.fit(train[['Promo','weekday']],\n",
    "        train['Sales'])\n",
    "test['Sales'] = xgb.predict(test[['Promo','weekday']])\n",
    "test[['id','Sales']].to_csv(\"submission1.csv\",index=False) "
   ]
  },
  {
   "cell_type": "code",
   "execution_count": 25,
   "id": "e6891ccc",
   "metadata": {},
   "outputs": [
    {
     "name": "stdout",
     "output_type": "stream",
     "text": [
      "   Store StoreType Assortment  CompetitionDistance  CompetitionOpenSinceMonth  \\\n",
      "0      1         c          a               1270.0                        9.0   \n",
      "1      2         a          a                570.0                       11.0   \n",
      "2      3         a          a              14130.0                       12.0   \n",
      "3      4         c          c                620.0                        9.0   \n",
      "4      5         a          a              29910.0                        4.0   \n",
      "\n",
      "   CompetitionOpenSinceYear  Promo2  Promo2SinceWeek  Promo2SinceYear  \\\n",
      "0                    2008.0       0              NaN              NaN   \n",
      "1                    2007.0       1             13.0           2010.0   \n",
      "2                    2006.0       1             14.0           2011.0   \n",
      "3                    2009.0       0              NaN              NaN   \n",
      "4                    2015.0       0              NaN              NaN   \n",
      "\n",
      "     PromoInterval  \n",
      "0              NaN  \n",
      "1  Jan,Apr,Jul,Oct  \n",
      "2  Jan,Apr,Jul,Oct  \n",
      "3              NaN  \n",
      "4              NaN  \n",
      "<class 'pandas.core.frame.DataFrame'>\n",
      "RangeIndex: 1115 entries, 0 to 1114\n",
      "Data columns (total 10 columns):\n",
      " #   Column                     Non-Null Count  Dtype  \n",
      "---  ------                     --------------  -----  \n",
      " 0   Store                      1115 non-null   int64  \n",
      " 1   StoreType                  1115 non-null   object \n",
      " 2   Assortment                 1115 non-null   object \n",
      " 3   CompetitionDistance        1112 non-null   float64\n",
      " 4   CompetitionOpenSinceMonth  761 non-null    float64\n",
      " 5   CompetitionOpenSinceYear   761 non-null    float64\n",
      " 6   Promo2                     1115 non-null   int64  \n",
      " 7   Promo2SinceWeek            571 non-null    float64\n",
      " 8   Promo2SinceYear            571 non-null    float64\n",
      " 9   PromoInterval              571 non-null    object \n",
      "dtypes: float64(5), int64(2), object(3)\n",
      "memory usage: 87.2+ KB\n",
      "None\n"
     ]
    }
   ],
   "source": [
    "# 외부 Data 사용하기\n",
    "\n",
    "print(store.head())\n",
    "print(store.info())"
   ]
  },
  {
   "cell_type": "code",
   "execution_count": 27,
   "id": "543015a2",
   "metadata": {},
   "outputs": [],
   "source": [
    "# 외부 데이터와 결합\n",
    "\n",
    "train = pd.merge(train, store, on=['Store'], how='left')\n",
    "test = pd.merge(test, store, on=['Store'], how='left')"
   ]
  },
  {
   "cell_type": "code",
   "execution_count": 28,
   "id": "a0cad9f7",
   "metadata": {},
   "outputs": [
    {
     "data": {
      "text/html": [
       "<div>\n",
       "<style scoped>\n",
       "    .dataframe tbody tr th:only-of-type {\n",
       "        vertical-align: middle;\n",
       "    }\n",
       "\n",
       "    .dataframe tbody tr th {\n",
       "        vertical-align: top;\n",
       "    }\n",
       "\n",
       "    .dataframe thead th {\n",
       "        text-align: right;\n",
       "    }\n",
       "</style>\n",
       "<table border=\"1\" class=\"dataframe\">\n",
       "  <thead>\n",
       "    <tr style=\"text-align: right;\">\n",
       "      <th></th>\n",
       "      <th>id</th>\n",
       "      <th>Store</th>\n",
       "      <th>Date</th>\n",
       "      <th>Sales</th>\n",
       "      <th>Promo</th>\n",
       "      <th>SchoolHoliday</th>\n",
       "      <th>StateHoliday_0</th>\n",
       "      <th>StateHoliday_a</th>\n",
       "      <th>StateHoliday_b</th>\n",
       "      <th>StateHoliday_c</th>\n",
       "      <th>...</th>\n",
       "      <th>weekday</th>\n",
       "      <th>StoreType</th>\n",
       "      <th>Assortment</th>\n",
       "      <th>CompetitionDistance</th>\n",
       "      <th>CompetitionOpenSinceMonth</th>\n",
       "      <th>CompetitionOpenSinceYear</th>\n",
       "      <th>Promo2</th>\n",
       "      <th>Promo2SinceWeek</th>\n",
       "      <th>Promo2SinceYear</th>\n",
       "      <th>PromoInterval</th>\n",
       "    </tr>\n",
       "  </thead>\n",
       "  <tbody>\n",
       "    <tr>\n",
       "      <th>0</th>\n",
       "      <td>14929</td>\n",
       "      <td>85</td>\n",
       "      <td>2015-05-01</td>\n",
       "      <td>11360</td>\n",
       "      <td>1</td>\n",
       "      <td>0</td>\n",
       "      <td>0</td>\n",
       "      <td>1</td>\n",
       "      <td>0</td>\n",
       "      <td>0</td>\n",
       "      <td>...</td>\n",
       "      <td>4</td>\n",
       "      <td>b</td>\n",
       "      <td>a</td>\n",
       "      <td>1870.0</td>\n",
       "      <td>10.0</td>\n",
       "      <td>2011.0</td>\n",
       "      <td>0</td>\n",
       "      <td>NaN</td>\n",
       "      <td>NaN</td>\n",
       "      <td>NaN</td>\n",
       "    </tr>\n",
       "    <tr>\n",
       "      <th>1</th>\n",
       "      <td>14930</td>\n",
       "      <td>512</td>\n",
       "      <td>2015-05-01</td>\n",
       "      <td>10534</td>\n",
       "      <td>1</td>\n",
       "      <td>0</td>\n",
       "      <td>0</td>\n",
       "      <td>1</td>\n",
       "      <td>0</td>\n",
       "      <td>0</td>\n",
       "      <td>...</td>\n",
       "      <td>4</td>\n",
       "      <td>b</td>\n",
       "      <td>b</td>\n",
       "      <td>590.0</td>\n",
       "      <td>NaN</td>\n",
       "      <td>NaN</td>\n",
       "      <td>1</td>\n",
       "      <td>5.0</td>\n",
       "      <td>2013.0</td>\n",
       "      <td>Mar,Jun,Sept,Dec</td>\n",
       "    </tr>\n",
       "    <tr>\n",
       "      <th>2</th>\n",
       "      <td>14931</td>\n",
       "      <td>1097</td>\n",
       "      <td>2015-05-01</td>\n",
       "      <td>17039</td>\n",
       "      <td>1</td>\n",
       "      <td>0</td>\n",
       "      <td>0</td>\n",
       "      <td>1</td>\n",
       "      <td>0</td>\n",
       "      <td>0</td>\n",
       "      <td>...</td>\n",
       "      <td>4</td>\n",
       "      <td>b</td>\n",
       "      <td>b</td>\n",
       "      <td>720.0</td>\n",
       "      <td>3.0</td>\n",
       "      <td>2002.0</td>\n",
       "      <td>0</td>\n",
       "      <td>NaN</td>\n",
       "      <td>NaN</td>\n",
       "      <td>NaN</td>\n",
       "    </tr>\n",
       "    <tr>\n",
       "      <th>3</th>\n",
       "      <td>14932</td>\n",
       "      <td>1</td>\n",
       "      <td>2015-04-30</td>\n",
       "      <td>6228</td>\n",
       "      <td>1</td>\n",
       "      <td>0</td>\n",
       "      <td>1</td>\n",
       "      <td>0</td>\n",
       "      <td>0</td>\n",
       "      <td>0</td>\n",
       "      <td>...</td>\n",
       "      <td>3</td>\n",
       "      <td>c</td>\n",
       "      <td>a</td>\n",
       "      <td>1270.0</td>\n",
       "      <td>9.0</td>\n",
       "      <td>2008.0</td>\n",
       "      <td>0</td>\n",
       "      <td>NaN</td>\n",
       "      <td>NaN</td>\n",
       "      <td>NaN</td>\n",
       "    </tr>\n",
       "    <tr>\n",
       "      <th>4</th>\n",
       "      <td>14933</td>\n",
       "      <td>9</td>\n",
       "      <td>2015-04-30</td>\n",
       "      <td>9717</td>\n",
       "      <td>1</td>\n",
       "      <td>0</td>\n",
       "      <td>1</td>\n",
       "      <td>0</td>\n",
       "      <td>0</td>\n",
       "      <td>0</td>\n",
       "      <td>...</td>\n",
       "      <td>3</td>\n",
       "      <td>a</td>\n",
       "      <td>c</td>\n",
       "      <td>2030.0</td>\n",
       "      <td>8.0</td>\n",
       "      <td>2000.0</td>\n",
       "      <td>0</td>\n",
       "      <td>NaN</td>\n",
       "      <td>NaN</td>\n",
       "      <td>NaN</td>\n",
       "    </tr>\n",
       "  </tbody>\n",
       "</table>\n",
       "<p>5 rows × 22 columns</p>\n",
       "</div>"
      ],
      "text/plain": [
       "      id  Store       Date  Sales  Promo  SchoolHoliday  StateHoliday_0  \\\n",
       "0  14929     85 2015-05-01  11360      1              0               0   \n",
       "1  14930    512 2015-05-01  10534      1              0               0   \n",
       "2  14931   1097 2015-05-01  17039      1              0               0   \n",
       "3  14932      1 2015-04-30   6228      1              0               1   \n",
       "4  14933      9 2015-04-30   9717      1              0               1   \n",
       "\n",
       "   StateHoliday_a  StateHoliday_b  StateHoliday_c  ...  weekday  StoreType  \\\n",
       "0               1               0               0  ...        4          b   \n",
       "1               1               0               0  ...        4          b   \n",
       "2               1               0               0  ...        4          b   \n",
       "3               0               0               0  ...        3          c   \n",
       "4               0               0               0  ...        3          a   \n",
       "\n",
       "   Assortment CompetitionDistance CompetitionOpenSinceMonth  \\\n",
       "0           a              1870.0                      10.0   \n",
       "1           b               590.0                       NaN   \n",
       "2           b               720.0                       3.0   \n",
       "3           a              1270.0                       9.0   \n",
       "4           c              2030.0                       8.0   \n",
       "\n",
       "   CompetitionOpenSinceYear  Promo2  Promo2SinceWeek  Promo2SinceYear  \\\n",
       "0                    2011.0       0              NaN              NaN   \n",
       "1                       NaN       1              5.0           2013.0   \n",
       "2                    2002.0       0              NaN              NaN   \n",
       "3                    2008.0       0              NaN              NaN   \n",
       "4                    2000.0       0              NaN              NaN   \n",
       "\n",
       "      PromoInterval  \n",
       "0               NaN  \n",
       "1  Mar,Jun,Sept,Dec  \n",
       "2               NaN  \n",
       "3               NaN  \n",
       "4               NaN  \n",
       "\n",
       "[5 rows x 22 columns]"
      ]
     },
     "execution_count": 28,
     "metadata": {},
     "output_type": "execute_result"
    }
   ],
   "source": [
    "train.head()"
   ]
  },
  {
   "cell_type": "code",
   "execution_count": 32,
   "id": "c4187be7",
   "metadata": {},
   "outputs": [
    {
     "name": "stdout",
     "output_type": "stream",
     "text": [
      "<class 'pandas.core.frame.DataFrame'>\n",
      "Int64Index: 62244 entries, 0 to 62243\n",
      "Data columns (total 25 columns):\n",
      " #   Column                     Non-Null Count  Dtype         \n",
      "---  ------                     --------------  -----         \n",
      " 0   id                         62244 non-null  int64         \n",
      " 1   Store                      62244 non-null  int64         \n",
      " 2   Date                       62244 non-null  datetime64[ns]\n",
      " 3   Sales                      62244 non-null  int64         \n",
      " 4   Promo                      62244 non-null  int64         \n",
      " 5   SchoolHoliday              62244 non-null  int64         \n",
      " 6   StateHoliday_0             62244 non-null  uint8         \n",
      " 7   StateHoliday_a             62244 non-null  uint8         \n",
      " 8   StateHoliday_b             62244 non-null  uint8         \n",
      " 9   StateHoliday_c             62244 non-null  uint8         \n",
      " 10  year                       62244 non-null  int64         \n",
      " 11  month                      62244 non-null  int64         \n",
      " 12  weekday                    62244 non-null  int64         \n",
      " 13  StoreType                  62244 non-null  object        \n",
      " 14  Assortment                 62244 non-null  object        \n",
      " 15  CompetitionDistance        62018 non-null  float64       \n",
      " 16  CompetitionOpenSinceMonth  43856 non-null  float64       \n",
      " 17  CompetitionOpenSinceYear   43856 non-null  float64       \n",
      " 18  Promo2                     62244 non-null  int64         \n",
      " 19  Promo2SinceWeek            28840 non-null  float64       \n",
      " 20  Promo2SinceYear            28840 non-null  float64       \n",
      " 21  PromoInterval              28840 non-null  object        \n",
      " 22  CompetitionOpen            43856 non-null  float64       \n",
      " 23  WeekOfYear                 62244 non-null  int64         \n",
      " 24  PromoOpen                  28840 non-null  float64       \n",
      "dtypes: datetime64[ns](1), float64(7), int64(10), object(3), uint8(4)\n",
      "memory usage: 10.7+ MB\n"
     ]
    }
   ],
   "source": [
    "train.info()"
   ]
  },
  {
   "cell_type": "code",
   "execution_count": 29,
   "id": "636d60f6",
   "metadata": {},
   "outputs": [],
   "source": [
    "# FE 를 통한 새로운 변수 생성\n",
    "# CompetitionOpenSinceYear : 경쟁업체가 오픈한 년도\n",
    "# CompetitionOpenSinceMonth : 경쟁업체가 오픈한 월\n",
    "\n",
    "# CompetitionOpen : 경쟁업체가 몇 개월 전에 오픈했는지 확인\n",
    "\n",
    "train['CompetitionOpen'] = 12*( train['year'] - train['CompetitionOpenSinceYear'] ) + \\\n",
    "                             (train['month'] - train['CompetitionOpenSinceMonth'])\n",
    "\n",
    "test['CompetitionOpen'] = 12*( test['year'] - test['CompetitionOpenSinceYear'] ) + \\\n",
    "                             (test['month'] - test['CompetitionOpenSinceMonth'])"
   ]
  },
  {
   "cell_type": "code",
   "execution_count": 30,
   "id": "eb552a4f",
   "metadata": {},
   "outputs": [],
   "source": [
    "# 경쟁업체 오픈을 몇 번째 주에 했는지 확인\n",
    "\n",
    "train['WeekOfYear'] = train['Date'].dt.weekofyear\n",
    "test['WeekOfYear'] = test['Date'].dt.weekofyear"
   ]
  },
  {
   "cell_type": "code",
   "execution_count": 31,
   "id": "96328a27",
   "metadata": {},
   "outputs": [],
   "source": [
    "# 경쟁업체 프로모션을 시작한지 몇 개월이 되었는지 확인\n",
    "\n",
    "train['PromoOpen'] = 12* ( train['year'] - train['Promo2SinceYear'] ) + \\\n",
    "                        (train['WeekOfYear'] - train['Promo2SinceWeek']) / 4\n",
    "\n",
    "test['PromoOpen'] = 12* ( test['year'] - test['Promo2SinceYear'] ) + \\\n",
    "                        (test['WeekOfYear'] - test['Promo2SinceWeek']) / 4"
   ]
  },
  {
   "cell_type": "code",
   "execution_count": 33,
   "id": "089c0a0d",
   "metadata": {},
   "outputs": [],
   "source": [
    "## StoreType 변수를 one hot encoding \n",
    "\n",
    "train = pd.get_dummies(columns=['StoreType'],data=train)\n",
    "test = pd.get_dummies(columns=['StoreType'],data=test)"
   ]
  },
  {
   "cell_type": "code",
   "execution_count": 34,
   "id": "5232df75",
   "metadata": {},
   "outputs": [],
   "source": [
    "## Assortment 변수를 one hot encoding\n",
    "\n",
    "train = pd.get_dummies(columns=['Assortment'],data=train)\n",
    "test = pd.get_dummies(columns=['Assortment'],data=test)"
   ]
  },
  {
   "cell_type": "code",
   "execution_count": 35,
   "id": "a9468f74",
   "metadata": {},
   "outputs": [],
   "source": [
    "## PromoInterval 변수를 one hot encoding\n",
    "\n",
    "train = pd.get_dummies(columns=['PromoInterval'],data=train)\n",
    "test = pd.get_dummies(columns=['PromoInterval'],data=test)"
   ]
  },
  {
   "cell_type": "code",
   "execution_count": 36,
   "id": "bf769cc8",
   "metadata": {},
   "outputs": [
    {
     "data": {
      "text/plain": [
       "Index(['id', 'Store', 'Date', 'Sales', 'Promo', 'SchoolHoliday',\n",
       "       'StateHoliday_0', 'StateHoliday_a', 'StateHoliday_b', 'StateHoliday_c',\n",
       "       'year', 'month', 'weekday', 'CompetitionDistance',\n",
       "       'CompetitionOpenSinceMonth', 'CompetitionOpenSinceYear', 'Promo2',\n",
       "       'Promo2SinceWeek', 'Promo2SinceYear', 'CompetitionOpen', 'WeekOfYear',\n",
       "       'PromoOpen', 'StoreType_a', 'StoreType_b', 'StoreType_c', 'StoreType_d',\n",
       "       'Assortment_a', 'Assortment_b', 'Assortment_c',\n",
       "       'PromoInterval_Feb,May,Aug,Nov', 'PromoInterval_Jan,Apr,Jul,Oct',\n",
       "       'PromoInterval_Mar,Jun,Sept,Dec'],\n",
       "      dtype='object')"
      ]
     },
     "execution_count": 36,
     "metadata": {},
     "output_type": "execute_result"
    }
   ],
   "source": [
    "train.columns"
   ]
  },
  {
   "cell_type": "code",
   "execution_count": 37,
   "id": "7c061e12",
   "metadata": {},
   "outputs": [],
   "source": [
    "# 2차 모델링\n",
    "# 사용할 변수 저장\n",
    "\n",
    "col = ['Promo', 'SchoolHoliday',\n",
    "       'StateHoliday_0', 'StateHoliday_a', 'StateHoliday_b', 'StateHoliday_c',\n",
    "       'weekday', 'year', 'month', 'CompetitionDistance',\n",
    "       'Promo2',\n",
    "       'CompetitionOpen', 'WeekOfYear',\n",
    "       'PromoOpen', 'StoreType_a', 'StoreType_b', 'StoreType_c', 'StoreType_d',\n",
    "       'Assortment_a', 'Assortment_b', 'Assortment_c',\n",
    "       'PromoInterval_Feb,May,Aug,Nov', 'PromoInterval_Jan,Apr,Jul,Oct',\n",
    "       'PromoInterval_Mar,Jun,Sept,Dec']"
   ]
  },
  {
   "cell_type": "code",
   "execution_count": 39,
   "id": "1bd4d566",
   "metadata": {},
   "outputs": [
    {
     "data": {
      "text/plain": [
       "XGBRegressor(base_score=0.5, booster='gbtree', callbacks=None,\n",
       "             colsample_bylevel=1, colsample_bynode=1, colsample_bytree=1,\n",
       "             early_stopping_rounds=None, enable_categorical=False,\n",
       "             eval_metric=None, feature_types=None, gamma=0, gpu_id=-1,\n",
       "             grow_policy='depthwise', importance_type=None,\n",
       "             interaction_constraints='', learning_rate=0.1, max_bin=256,\n",
       "             max_cat_threshold=64, max_cat_to_onehot=4, max_delta_step=0,\n",
       "             max_depth=6, max_leaves=0, min_child_weight=1, missing=nan,\n",
       "             monotone_constraints='()', n_estimators=300, n_jobs=0,\n",
       "             num_parallel_tree=1, predictor='auto', random_state=2022, ...)"
      ]
     },
     "execution_count": 39,
     "metadata": {},
     "output_type": "execute_result"
    }
   ],
   "source": [
    "xgb = XGBRegressor( n_estimators=300, learning_rate= 0.1, random_state=2022)\n",
    "xgb.fit(train[col],train['Sales'])"
   ]
  },
  {
   "cell_type": "code",
   "execution_count": 40,
   "id": "d08e9781",
   "metadata": {},
   "outputs": [
    {
     "data": {
      "text/plain": [
       "array([0.12385487, 0.03988599, 0.00907444, 0.00132656, 0.00120433,\n",
       "       0.00220948, 0.02616483, 0.01552788, 0.04393972, 0.08632533,\n",
       "       0.06617997, 0.05349968, 0.02579216, 0.03712471, 0.06036671,\n",
       "       0.03335419, 0.0622099 , 0.0484133 , 0.09887119, 0.0033941 ,\n",
       "       0.03573428, 0.02701863, 0.07613375, 0.02239397], dtype=float32)"
      ]
     },
     "execution_count": 40,
     "metadata": {},
     "output_type": "execute_result"
    }
   ],
   "source": [
    "xgb.feature_importances_"
   ]
  },
  {
   "cell_type": "code",
   "execution_count": 45,
   "id": "741f737a",
   "metadata": {},
   "outputs": [
    {
     "data": {
      "text/plain": [
       "([0,\n",
       "  1,\n",
       "  2,\n",
       "  3,\n",
       "  4,\n",
       "  5,\n",
       "  6,\n",
       "  7,\n",
       "  8,\n",
       "  9,\n",
       "  10,\n",
       "  11,\n",
       "  12,\n",
       "  13,\n",
       "  14,\n",
       "  15,\n",
       "  16,\n",
       "  17,\n",
       "  18,\n",
       "  19,\n",
       "  20,\n",
       "  21,\n",
       "  22,\n",
       "  23],\n",
       " [Text(0, 0, ''),\n",
       "  Text(0, 0, ''),\n",
       "  Text(0, 0, ''),\n",
       "  Text(0, 0, ''),\n",
       "  Text(0, 0, ''),\n",
       "  Text(0, 0, ''),\n",
       "  Text(0, 0, ''),\n",
       "  Text(0, 0, ''),\n",
       "  Text(0, 0, ''),\n",
       "  Text(0, 0, ''),\n",
       "  Text(0, 0, ''),\n",
       "  Text(0, 0, ''),\n",
       "  Text(0, 0, ''),\n",
       "  Text(0, 0, ''),\n",
       "  Text(0, 0, ''),\n",
       "  Text(0, 0, ''),\n",
       "  Text(0, 0, ''),\n",
       "  Text(0, 0, ''),\n",
       "  Text(0, 0, ''),\n",
       "  Text(0, 0, ''),\n",
       "  Text(0, 0, ''),\n",
       "  Text(0, 0, ''),\n",
       "  Text(0, 0, ''),\n",
       "  Text(0, 0, '')])"
      ]
     },
     "execution_count": 45,
     "metadata": {},
     "output_type": "execute_result"
    },
    {
     "data": {
      "image/png": "[encoded data removed]",
      "text/plain": [
       "<Figure size 640x480 with 1 Axes>"
      ]
     },
     "metadata": {},
     "output_type": "display_data"
    }
   ],
   "source": [
    "# 변수 중요도 확인\n",
    "imp_df = pd.DataFrame({\"var\" : col,\n",
    "                      \"imp\": xgb.feature_importances_})\n",
    "\n",
    "imp_df = imp_df.sort_values(by=\"imp\", ascending=False)\n",
    "\n",
    "plt.bar(imp_df[\"var\"], imp_df[\"imp\"])\n",
    "plt.xticks(rotation=90)"
   ]
  },
  {
   "cell_type": "code",
   "execution_count": 49,
   "id": "f622c793",
   "metadata": {},
   "outputs": [
    {
     "name": "stdout",
     "output_type": "stream",
     "text": [
      "1번째 변수까지의 학습 완료\n",
      "2번째 변수까지의 학습 완료\n",
      "3번째 변수까지의 학습 완료\n",
      "4번째 변수까지의 학습 완료\n",
      "5번째 변수까지의 학습 완료\n",
      "6번째 변수까지의 학습 완료\n",
      "7번째 변수까지의 학습 완료\n",
      "8번째 변수까지의 학습 완료\n",
      "9번째 변수까지의 학습 완료\n",
      "10번째 변수까지의 학습 완료\n",
      "11번째 변수까지의 학습 완료\n",
      "12번째 변수까지의 학습 완료\n",
      "13번째 변수까지의 학습 완료\n",
      "14번째 변수까지의 학습 완료\n",
      "15번째 변수까지의 학습 완료\n",
      "16번째 변수까지의 학습 완료\n",
      "17번째 변수까지의 학습 완료\n",
      "18번째 변수까지의 학습 완료\n",
      "19번째 변수까지의 학습 완료\n",
      "20번째 변수까지의 학습 완료\n",
      "21번째 변수까지의 학습 완료\n",
      "22번째 변수까지의 학습 완료\n",
      "23번째 변수까지의 학습 완료\n",
      "24번째 변수까지의 학습 완료\n"
     ]
    }
   ],
   "source": [
    "# 교차 검증과 변수를 늘려가면서 mse 확인\n",
    "score_list = []\n",
    "selected_varnum = []\n",
    "\n",
    "for i in range(len(imp_df)):\n",
    "    selected_var = imp_df[\"var\"].to_list()[:i+1]\n",
    "    scores = cross_val_score(xgb,\n",
    "                            train[selected_var],\n",
    "                            train['Sales'],\n",
    "                            scoring=\"neg_mean_squared_error\", cv=3)\n",
    "    \n",
    "    score_list.append(-np.mean(scores))\n",
    "    selected_varnum.append(i+1)\n",
    "    \n",
    "    print(f'{i+1}번째 변수까지의 학습 완료')\n",
    "    "
   ]
  },
  {
   "cell_type": "code",
   "execution_count": 50,
   "id": "25355232",
   "metadata": {},
   "outputs": [
    {
     "data": {
      "text/plain": [
       "[<matplotlib.lines.Line2D at 0x1e9628bf6d0>]"
      ]
     },
     "execution_count": 50,
     "metadata": {},
     "output_type": "execute_result"
    },
    {
     "data": {
      "image/png": "[encoded data removed]",
      "text/plain": [
       "<Figure size 640x480 with 1 Axes>"
      ]
     },
     "metadata": {},
     "output_type": "display_data"
    }
   ],
   "source": [
    "plt.plot(selected_varnum, score_list)"
   ]
  },
  {
   "cell_type": "code",
   "execution_count": 51,
   "id": "defab4ea",
   "metadata": {},
   "outputs": [],
   "source": [
    "# 변수 중요도의 상위 17개 변수만을 사용하여 모델 학습 \n",
    "\n",
    "xgb.fit(train[col[16]], train['Sales'])\n",
    "test['Sales'] = xgb.predict(test[col[16]])\n",
    "\n",
    "test[['id','Sales']].to_csv(\"submission2.csv\",index=False)"
   ]
  },
  {
   "cell_type": "code",
   "execution_count": 61,
   "id": "7be08c8b",
   "metadata": {},
   "outputs": [
    {
     "name": "stdout",
     "output_type": "stream",
     "text": [
      "est : 100 / socre = 3141404.4479315304\n",
      "est : 200 / socre = 2524316.9747549575\n",
      "est : 300 / socre = 2360528.8613714096\n",
      "est : 400 / socre = 2294433.52211088\n",
      "est : 500 / socre = 2259368.3690144885\n",
      "est : 600 / socre = 2235471.039666451\n",
      "est : 700 / socre = 2226403.4475525036\n",
      "est : 800 / socre = 2220508.216998303\n",
      "est : 900 / socre = 2218466.266808203\n"
     ]
    }
   ],
   "source": [
    "# 하이퍼 파라미터 튜닝\n",
    "# n_estimators : 트리의 개수\n",
    "\n",
    "est_list = [x for x in range(100, 1000, 100)]\n",
    "score_list = []\n",
    "\n",
    "for i in est_list:\n",
    "    xgb = XGBRegressor( n_estimators=i, learning_rate= 0.1, random_state=2022)\n",
    "    scores = cross_val_score(xgb, train[col[:17]], train['Sales'], scoring=\"neg_mean_squared_error\", cv=3)\n",
    "    score_list.append(-np.mean(scores))\n",
    "    print(f'est : {i} / socre = {-np.mean(scores)}')"
   ]
  },
  {
   "cell_type": "code",
   "execution_count": 62,
   "id": "3b510c1f",
   "metadata": {
    "scrolled": true
   },
   "outputs": [
    {
     "data": {
      "text/plain": [
       "(array([   0.,  100.,  200.,  300.,  400.,  500.,  600.,  700.,  800.,\n",
       "         900., 1000.]),\n",
       " [Text(0, 0, ''),\n",
       "  Text(0, 0, ''),\n",
       "  Text(0, 0, ''),\n",
       "  Text(0, 0, ''),\n",
       "  Text(0, 0, ''),\n",
       "  Text(0, 0, ''),\n",
       "  Text(0, 0, ''),\n",
       "  Text(0, 0, ''),\n",
       "  Text(0, 0, ''),\n",
       "  Text(0, 0, ''),\n",
       "  Text(0, 0, '')])"
      ]
     },
     "execution_count": 62,
     "metadata": {},
     "output_type": "execute_result"
    },
    {
     "data": {
      "image/png": "[encoded data removed]",
      "text/plain": [
       "<Figure size 640x480 with 1 Axes>"
      ]
     },
     "metadata": {},
     "output_type": "display_data"
    }
   ],
   "source": [
    "plt.plot(est_list,score_list)\n",
    "plt.xticks(rotation=90)"
   ]
  },
  {
   "cell_type": "code",
   "execution_count": null,
   "id": "a18cda01",
   "metadata": {},
   "outputs": [],
   "source": [
    "# 최적의 tree 개수는 300"
   ]
  }
 ],
 "metadata": {
  "kernelspec": {
   "display_name": "Python 3 (ipykernel)",
   "language": "python",
   "name": "python3"
  },
  "language_info": {
   "codemirror_mode": {
    "name": "ipython",
    "version": 3
   },
   "file_extension": ".py",
   "mimetype": "text/x-python",
   "name": "python",
   "nbconvert_exporter": "python",
   "pygments_lexer": "ipython3",
   "version": "3.9.13"
  }
 },
 "nbformat": 4,
 "nbformat_minor": 5
}
